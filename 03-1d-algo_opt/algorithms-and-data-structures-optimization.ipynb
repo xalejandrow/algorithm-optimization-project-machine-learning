{
  "cells": [
    {
      "cell_type": "markdown",
      "metadata": {
        "id": "view-in-github",
        "colab_type": "text"
      },
      "source": [
        "<a href=\"https://colab.research.google.com/github/xalejandrow/algorithm-optimization-project-machine-learning/blob/main/03-1d-algo_opt/algorithms-and-data-structures-optimization.ipynb\" target=\"_parent\"><img src=\"https://colab.research.google.com/assets/colab-badge.svg\" alt=\"Open In Colab\"/></a>"
      ]
    },
    {
      "cell_type": "markdown",
      "id": "fd64c6a8",
      "metadata": {
        "id": "fd64c6a8"
      },
      "source": [
        "# ALGORITHMS AND DATA STRUCTURES"
      ]
    },
    {
      "cell_type": "markdown",
      "id": "e8e2bc52",
      "metadata": {
        "id": "e8e2bc52"
      },
      "source": [
        "## What is an algorithm?\n",
        "\n",
        "Algorithms are more simple than we think. Since we are kids we are taught how to complete day to day tasks.\n",
        "An algorithm is a set of instructions followed to achieve a goal or to produce an output, for example learning to walk, tie your shoes or preparing a cake. All these processes are taught to us using a step to step procedure.\n",
        "Let's see an example of a very simple algorithm, the steps to prepare some brownies:\n",
        "\n",
        "```py\n",
        "function PrepareBrownies(flavor){\n",
        "\n",
        " 1. Heat Oven to 350 F\n",
        " 2. Mix flour, baking powder, salt in a bowl\n",
        " 3. Mix melted butter with \"+ flavor +\" chips in another bowl\n",
        " 4. Mix eggs with sugar in a different bowl\n",
        " 5. First combine the butter bowl with the eggs bowl.\n",
        " 6. Add the flour bowl to the previous mix.\n",
        " 7  Mix. \n",
        " 8. Put in pan\n",
        " 9. Bake for 30 minutes\n",
        "\n",
        "}\n",
        "\n",
        "PrepareBrownies('chocolate')\n",
        "```"
      ]
    },
    {
      "cell_type": "markdown",
      "id": "7f241897",
      "metadata": {
        "id": "7f241897"
      },
      "source": [
        "## Data Structures\n",
        "\n",
        "Most of the problems in computer science have some sort of data associated with, which we have to use to solve the problem and come up with a conclusion. So, a data structure is  a way to organize and manage that data at memory level such that we can effectively and efficiently do operation on that data.\n",
        "\n",
        "To have a clear difference between algorithms and data structures we can say that the algorithms would act like the verbs, and data structures would be the nouns."
      ]
    },
    {
      "cell_type": "markdown",
      "id": "b7401991",
      "metadata": {
        "id": "b7401991"
      },
      "source": [
        "## What is time complexity?\n",
        "\n",
        "A simple problem can be solved using many different algorithms. Some solutions just take less time and space than others.\n",
        "But how do we know which solutions are more efficient?\n",
        "\n",
        "Time complexity in programming it's most commonly used in the design of algorithms. It means how long an algorithm with a given number of inputs (n) will take to complete its task. It is usually defined using Big-O notation. Analyze time complexity all times you try to solve a problem. It will make you a better developer.\n",
        "\n",
        "Let's look at some time complexities and its definitions:\n",
        "\n",
        "**O(1) - Constant time:** Given an input of size n, it only takes a single step for the algorithm to accomplish the task.\n",
        "\n",
        "**O(log n) - Logarithmic time:** given an input of size n, the number of steps it takes to accomplish the task are decreased by some factor with each step.\n",
        "\n",
        "**O(n) - Linear time:** Given an input of size n, the number of steps required is directly related (1 to 1).\n",
        "\n",
        "**O(n^2) - Quadratic time:** Given an input of size n, the number of steps it takes to accomplish a task is square of n.\n",
        "\n",
        "**O(C^n) - Exponential time:** Given an input of size n, the number of steps it takes to accomplish a task is a constant to the n power (pretty large number).\n",
        "\n",
        "\n",
        " \n",
        "\n",
        "Let's use n=16 to understand time complexity with an example."
      ]
    },
    {
      "cell_type": "code",
      "execution_count": null,
      "id": "74b7e6ff",
      "metadata": {
        "id": "74b7e6ff"
      },
      "outputs": [],
      "source": [
        "let n = 16:\n",
        "    \n",
        "    \n",
        "O(1) = 1 step\n",
        "\n",
        "O(log n) = 4 steps -- assuming base 2\n",
        "\n",
        "O(n) = 16 steps\n",
        "\n",
        "O(n^2) = 256 steps\n",
        "\n",
        "O(2^n) = 65,356 steps"
      ]
    },
    {
      "cell_type": "markdown",
      "id": "4c12232b",
      "metadata": {
        "id": "4c12232b"
      },
      "source": [
        "![big-o_complexity.png](https://github.com/4GeeksAcademy/machine-learning-content/blob/master/assets/big-o_complexity.jpg?raw=1)"
      ]
    },
    {
      "cell_type": "markdown",
      "id": "12eeeb71",
      "metadata": {
        "id": "12eeeb71"
      },
      "source": [
        "## Understanding algorithms and data structures"
      ]
    },
    {
      "cell_type": "markdown",
      "id": "f631eb58",
      "metadata": {
        "id": "f631eb58"
      },
      "source": [
        "### 1. First algorithm:  Binary Search \n",
        "\n",
        "Suppose you’re searching for a word in a dictionary, and it starts with K. You could start at the beginning and keep flipping pages until you get to the Ks. But you’re more likely to start at a page in the middle, because you know the Ks are going to be near the middle of the dictionary. This is a search problem. And all these cases use the same algorithm to solve the problem: binary search.\n",
        "\n",
        "For any list of n, binary search will take log2n steps to run in the worst case.\n",
        "\n",
        "Retunring to our initial example we can say that:\n",
        "\n",
        "To look in a 240,000 words dictionary with binary search, you cut the number of words in half until you are left with one word. The result at the worst case would be 18 steps, while a simple search would have taken 240,000 steps.\n",
        "\n",
        "**Time complexity:** \n",
        "\n",
        "-A normal search runs in linear time O(n).\n",
        "\n",
        "-A binary search runs in log time (logarithmic time) O(log n).\n",
        "\n",
        "- The constant almost never matters for simple search vs binary search, because O(logn) is so much faster than O(n) when your list gets big."
      ]
    },
    {
      "cell_type": "markdown",
      "id": "3bc66da1",
      "metadata": {
        "id": "3bc66da1"
      },
      "source": [
        "### 2. Second Algorithm: Selection Sort"
      ]
    },
    {
      "cell_type": "markdown",
      "id": "92a1f010",
      "metadata": {
        "id": "92a1f010"
      },
      "source": [
        "#### Arrays vs LinkedList  (Data structures)"
      ]
    },
    {
      "cell_type": "markdown",
      "id": "57a5f6c9",
      "metadata": {
        "id": "57a5f6c9"
      },
      "source": [
        "Sometimes you need to store a list of elements in memory. Suppose you have a list of tasks to do today. Let's store it in an array first. That means all your tasks will be stored right next to each other in memory.\n",
        "\n",
        "10 is at index 2"
      ]
    },
    {
      "cell_type": "markdown",
      "id": "5cc9e350",
      "metadata": {
        "id": "5cc9e350"
      },
      "source": [
        "![arrays.jpg](https://github.com/4GeeksAcademy/machine-learning-content/blob/master/assets/arrays.jpg?raw=1)  "
      ]
    },
    {
      "cell_type": "markdown",
      "id": "e09e61f6",
      "metadata": {
        "id": "e09e61f6"
      },
      "source": [
        "Now let's suppose after adding the first four tasks, you want to add a fifth one but the next space is occupied. With linked lists your tasks can be anywhere in memory. \n",
        "\n",
        "Elements aren't next to each other so you can't instantly calculate the position, you have to go to the first element to get the adress of the second element. Then go to the second element to get the adress of the third element. The blue squares are memory in use by someone else, you can't add data there because it is already occupied."
      ]
    },
    {
      "cell_type": "markdown",
      "id": "323d78f2",
      "metadata": {
        "id": "323d78f2"
      },
      "source": [
        "![linkedlist.jpg](https://github.com/4GeeksAcademy/machine-learning-content/blob/master/assets/linkedlist.jpg?raw=1)"
      ]
    },
    {
      "cell_type": "markdown",
      "id": "6fc30964",
      "metadata": {
        "id": "6fc30964"
      },
      "source": [
        "Suppose you do your spend list of the month . At the end of the month you check how much you spent in that month. \n",
        "That means you are having a lot of Inserts and a few Reads. Should you use an array or a list?\n",
        "\n",
        "-Arrays  have fast reads and slow inserts.\n",
        "\n",
        "-Linked Lists have slow reads and fast inserts.\n",
        "\n",
        "It would make more sense to use a Linked List because you will be inserting more often than reading your spend list. Also, they only have slow reads if you are accesing random elements of the list but you are accesing all. Another important fact is that to add an item in the middle of an ordered list, also linked lists will be better because you just have to change what the previous element points to.\n",
        "\n",
        "What if I want to delete an element from the list?\n",
        "\n",
        "Again, lists are better because you just need to change what the previous element points to.\n",
        "\n",
        "\n",
        "Which are used more? It depends on the case!\n",
        "\n",
        "-Arrays are more used because they allow random access.\n",
        "\n",
        "-Linked list can only do sequential access (reading elements one by one), but they are good for inserts/deletes\n",
        "\n",
        "When you want to store multiple elements, should you use an array or a list?\n",
        "\n",
        "-In an array the elements would be stored right next to each other. It allows fast reads.\n",
        "*All elements in the array should be the same type.*\n",
        "\n",
        "-In a list, elements would be stores all over, one element stores the adress of the next one. It allows fast insert and deletes.\n",
        "\n"
      ]
    },
    {
      "cell_type": "markdown",
      "id": "988746a8",
      "metadata": {
        "id": "988746a8"
      },
      "source": [
        "**Time complexity:** \n",
        "\n",
        "**Best practice: Keep track of first and last items in a linked list so it only takes O(1)**"
      ]
    },
    {
      "cell_type": "markdown",
      "id": "8f59228b",
      "metadata": {
        "id": "8f59228b"
      },
      "source": [
        "![arrays_and_linkedlist_time_complexity.jpg](https://github.com/4GeeksAcademy/machine-learning-content/blob/master/assets/arrays_and_linkedlist_time_complexity.jpg?raw=1)"
      ]
    },
    {
      "cell_type": "markdown",
      "id": "1fbb635e",
      "metadata": {
        "id": "1fbb635e"
      },
      "source": [
        "#### Selection Sort Algorithm\n",
        "\n",
        "Remember O(n) time means you touch every element in a list once.\n",
        "\n",
        "Example: \n",
        "\n",
        "You have a list of songs with the count of times you have played them. To sort the list of songs and see which one is your favorite you have to check each item in the list to find the one with the highest play count.\n",
        "This takes O(n) time  and you have to do it n times."
      ]
    },
    {
      "cell_type": "code",
      "execution_count": null,
      "id": "256a9a1f",
      "metadata": {
        "id": "256a9a1f"
      },
      "outputs": [],
      "source": [
        "#Find the smallest element in an array and use it to write selection sort\n",
        "\n",
        "def findsmallest(arr):\n",
        "    smallest = arr[0] ----> stores smallest value\n",
        "    smallest_index = 0 -----> stores index of the smallest value\n",
        "    for i in range(1, len(arr)):\n",
        "        if arr[i] < smallest:\n",
        "            smallest = arr[i]\n",
        "            smallest_index = i\n",
        "    return smallest_index\n",
        "\n",
        "#Now let's write the Selection Sort:\n",
        "\n",
        "def SelectionSort(arr):   ------> sorts an array\n",
        "    newArr = []\n",
        "    for i in range(len(arr)):\n",
        "        smallest = findSmallest(arr)   ----->finds the smallest and adds it to the new array.\n",
        "        newArr.append(arr.pop(smallest))\n",
        "    return newArr"
      ]
    },
    {
      "cell_type": "markdown",
      "id": "7e25cf9f",
      "metadata": {
        "id": "7e25cf9f"
      },
      "source": [
        "### 3. Recursion"
      ]
    },
    {
      "cell_type": "markdown",
      "id": "267788bd",
      "metadata": {
        "id": "267788bd"
      },
      "source": [
        "Recursion means breaking down a problem into a base case and a recursive case.\n",
        "\n",
        "Recursion is where a function calls itself. Because a recursive function calls itself, it is easy to write a function incorrectly that ends up in an infinite loop.\n",
        "If that happens you need to press **CTRL + C** to kill your script.\n",
        "That is why every recursive function has 2 parts:\n",
        "\n",
        "1. Base case (when it does not call itself again)\n",
        "2. Recursive case (when it calls itself)\n",
        "\n",
        "There is no performance benefit of using recursion, in fact, sometimes loops are better.\n",
        "\n",
        "\"Loops may achieve a performance gain for your program. Recursion may achieve a performance gain for the programmer\""
      ]
    },
    {
      "cell_type": "markdown",
      "id": "31df6528",
      "metadata": {
        "id": "31df6528"
      },
      "source": [
        "![recursion.jpg](https://github.com/4GeeksAcademy/machine-learning-content/blob/master/assets/recursion.jpg?raw=1)"
      ]
    },
    {
      "cell_type": "markdown",
      "id": "991c4cad",
      "metadata": {
        "id": "991c4cad"
      },
      "source": [
        "Remember ! Recursion keeps track of the state. \n",
        "TIP: When we are dealing with a recursive function involving an array, the base case is often an empty array or an array with one element.\n",
        "If we are stuck, we should try that first.\n",
        "\n",
        "Why not use a loop?\n",
        "\n",
        "Because this is a sneak peek into functional programming. \n",
        "Functional programming languages like Haskell don't have loops.\n",
        "\n",
        "sum[ ] = 0   --->  base case\n",
        "\n",
        "sum(x; xs) = x + sum(xs)  --->  recursive case\n",
        "\n",
        "Let's see an example:"
      ]
    },
    {
      "cell_type": "code",
      "execution_count": null,
      "id": "8e01e0aa",
      "metadata": {
        "id": "8e01e0aa"
      },
      "outputs": [],
      "source": [
        "# 1. Earlier sum function\n",
        "\n",
        "def sum(list):\n",
        "    if list == []:\n",
        "        return 0\n",
        "    return list[0] + sum(list[1:])\n",
        "\n",
        "# 2. Recursive function to count number of items in a list:\n",
        "\n",
        "def count(list):\n",
        "    if list == []:\n",
        "        return 0\n",
        "    return 1 + count(list[1:])\n",
        "\n",
        "# 3. Find the maximum number in a list\n",
        "\n",
        "def max(list):\n",
        "    if len(list) == 2:\n",
        "        return list[0] if list[0] > list[1] else list[1]\n",
        "    submax = max(list[1:])\n",
        "    return list[0] if list[0] > submax else submax"
      ]
    },
    {
      "cell_type": "markdown",
      "id": "3710af95",
      "metadata": {
        "id": "3710af95"
      },
      "source": [
        "#### The stack (data structure)\n",
        "\n",
        "The stack is a simple data structure.\n",
        "Remember when we talked about arrays and lists? We had a task list. We could add task items anywhere in the list or delete random items. Now, let's imagine we have that same task list but now in the form of a stack of sticky notes. This is much simpler because when we insert an item, it gets added to the top of the list. When we read an item, we only read the most recent  top item and it's taken off the list. Now our task list only has two actions: \n",
        "\n",
        "1. Push (insert, add a new item to the top)\n",
        "2. Pop (remove the topmost item and read it)\n",
        "\n",
        "In our computer, all the function calls go into the call stack.\n",
        "The call stack can get very large, which takes up a lot of memory."
      ]
    },
    {
      "cell_type": "markdown",
      "id": "da5b03cd",
      "metadata": {
        "id": "da5b03cd"
      },
      "source": [
        "### 4. Third Algorithm: QuickSort\n",
        "\n",
        "Divide and conquer, a well known recursive technique for solving problems, and a good example of elegant code.\n",
        "\n",
        "Remember Recursion? In the case of QuickSort, we choose a pivot (1 element from the array)\n",
        "\n",
        "Let's find the elements smaller than the pivot and the elements larger than the pivot. This is called partitioning."
      ]
    },
    {
      "cell_type": "markdown",
      "id": "70abb56b",
      "metadata": {
        "id": "70abb56b"
      },
      "source": [
        "![quicksort.jpg](https://github.com/4GeeksAcademy/machine-learning-content/blob/master/assets/quicksort.jpg?raw=1)"
      ]
    },
    {
      "cell_type": "markdown",
      "id": "1601a197",
      "metadata": {
        "id": "1601a197"
      },
      "source": [
        "You just got a sneak peek that your algorithm works!\n",
        "\n",
        "Let's see an example of code for QuickSort:"
      ]
    },
    {
      "cell_type": "code",
      "execution_count": null,
      "id": "b32d7eee",
      "metadata": {
        "id": "b32d7eee"
      },
      "outputs": [],
      "source": [
        "def quicksort(array):\n",
        "    if len(array) < 2:\n",
        "        return array    #---> base case: arrays with 0 or 1 element are already sorted\n",
        "    else:\n",
        "        pivot = array[0]  #---> recursive case\n",
        "        less = [ i for i in array[1: ] if i <= pivot]   #----> subarray of elements less than pivot\n",
        "        greater = [ i for i in array[1: ] if i > pivot]   #---> subarray of elements greater than pivot\n",
        "        \n",
        "        return quicksort(less) + [pivot] + quicksort(greater)\n",
        "    \n",
        "    print(quicksort([10,5,2,3]))"
      ]
    },
    {
      "cell_type": "markdown",
      "id": "72cdb8f8",
      "metadata": {
        "id": "72cdb8f8"
      },
      "source": [
        "-Divide & conquer works breaking a problem into smaller and smaller pieces.\n",
        "\n",
        "-If you use QuickSort, choose a random element as the pivot.\n",
        "\n",
        "-The average runtime of QuickSort is 0(nlogn).\n",
        "\n",
        "-The constant in Big O notation can matter sometimes, that is why quicksort is faster than mergesort."
      ]
    },
    {
      "cell_type": "markdown",
      "id": "5f8b081f",
      "metadata": {
        "id": "5f8b081f"
      },
      "source": [
        "### 5. Hash Tables (Data structure)\n",
        "\n",
        "A hash function is where you put in a string and you get a number.\n",
        "They are great when you want to create a mapping from one thing to another thing or when you want to look something up.\n",
        "\n",
        "In Python we call hash tables : dictionaries\n",
        "\n",
        "dict() ---> shortcut in Python = { }\n",
        "\n",
        "The 'get' function returns the value if for example 'Maria' is in the hash table.\n",
        "\n",
        "Let's see an example to see if a person has already picked up their cash prize:"
      ]
    },
    {
      "cell_type": "code",
      "execution_count": null,
      "id": "25a6dba2",
      "metadata": {
        "id": "25a6dba2"
      },
      "outputs": [],
      "source": [
        "picked = {}\n",
        "\n",
        "def check_picked_prize(name):\n",
        "    if picked.get(name):\n",
        "        print('Kick them out')\n",
        "    else:\n",
        "        picked[name] = True\n",
        "        print('Let them pick up their cash prize')"
      ]
    },
    {
      "cell_type": "markdown",
      "id": "517d32ed",
      "metadata": {
        "id": "517d32ed"
      },
      "source": [
        "If this would be a list, this function would become really slow eventually, but because we are storing them in a hash table, it instantly tells us if the name is in the hash table or not. Here, checking if there are duplicates is very fast.\n",
        "\n",
        "Let's see some code for caching:"
      ]
    },
    {
      "cell_type": "code",
      "execution_count": null,
      "id": "e68f23b3",
      "metadata": {
        "id": "e68f23b3"
      },
      "outputs": [],
      "source": [
        "cache = {}\n",
        "\n",
        "def get_page(url):\n",
        "    if cache.get(url):\n",
        "        return cache[url]\n",
        "    else:\n",
        "        data = get_data_from_server(url)\n",
        "        cache[url] = data \n",
        "        return data  "
      ]
    },
    {
      "cell_type": "markdown",
      "id": "057ebb8b",
      "metadata": {
        "id": "057ebb8b"
      },
      "source": [
        "Hashes are good for modeling relationships from one thing to another thing, for filtering duplicates, for caching/memorizing data instead of making our server do the work.\n",
        "\n",
        "\n",
        "**Collisions:** They happen when two keys have been assigned the same slot.\n",
        "\n",
        "Hash tables work with constant time O(1) (not mean instant time)"
      ]
    },
    {
      "cell_type": "markdown",
      "id": "96d13d2f",
      "metadata": {
        "id": "96d13d2f"
      },
      "source": [
        "![hash_tables_big_o_notation.jpg](https://github.com/4GeeksAcademy/machine-learning-content/blob/master/assets/hash_tables_big_o_notation.jpg?raw=1)"
      ]
    },
    {
      "cell_type": "markdown",
      "id": "6ef05f51",
      "metadata": {
        "id": "6ef05f51"
      },
      "source": [
        "Let's try not to hit the worst case performance with hash tables. To do that, we need to avoid collisions. How do we do that? Using low load factor and using a good hash function.\n",
        "\n",
        "**What is the load factor of a hash table?**\n",
        "\n",
        "It is the number of items in the hash table divided by the total number of slots."
      ]
    },
    {
      "cell_type": "markdown",
      "id": "83a63639",
      "metadata": {
        "id": "83a63639"
      },
      "source": [
        "![load_factor.jpg](https://github.com/4GeeksAcademy/machine-learning-content/blob/master/assets/load_factor.jpg?raw=1)"
      ]
    },
    {
      "cell_type": "markdown",
      "id": "debac949",
      "metadata": {
        "id": "debac949"
      },
      "source": [
        "When the load factor starts to grow > 1 it is time to resize. When we are running out of space, we create a new array that is bigger.\n",
        "\n",
        "**Rule:** Make an array that is twice the size.\n",
        "\n",
        "We should also resize when our load factor is greater than 0.7, because resizing is expensive and we don't want to resize too often."
      ]
    },
    {
      "cell_type": "markdown",
      "id": "5a829b51",
      "metadata": {
        "id": "5a829b51"
      },
      "source": [
        "![good_vs_bad_hash_function.jpg](https://github.com/4GeeksAcademy/machine-learning-content/blob/master/assets/good_vs_bad_hash_function.jpg?raw=1)"
      ]
    },
    {
      "cell_type": "markdown",
      "id": "42ac35c1",
      "metadata": {
        "id": "42ac35c1"
      },
      "source": [
        "**Important facts:**\n",
        "\n",
        "-We will almost never have to implement a hash table ourselves, because the programming language should have one and we can assume that we will get the average case performance: constant time.\n",
        "\n",
        "-We can make a hash table by combining a hash function with an array.\n",
        "\n",
        "-Collisions are bad so we should minimize them.\n"
      ]
    },
    {
      "cell_type": "markdown",
      "id": "cf64a1d6",
      "metadata": {
        "id": "cf64a1d6"
      },
      "source": [
        "### 6. Breadth-first Search\n",
        "\n",
        "Bread-first search tells us if there is a path from A to B, and if there is a path, bread-first will find the shortest path.\n",
        "If we find a problem like 'Find the shortest path', we should try modeling our problem as a graph and use breadth-first search to solve it.\n",
        "\n",
        "**Important facts about Breadth-first search:\n",
        "\n",
        "-A directed graph has arrows and the relationship follows the direction of the arrow.\n",
        "\n",
        "-Undirected graphs don't have arrows and the relationship goes both ways.\n",
        "\n",
        "-Queues are FIFO (first in, first out)\n",
        "\n",
        "-Stocks are LIFO (last in, first out)\n",
        "\n",
        "-We need to check items in the order they were added to the search list, so the search list needs to be a queue. Otherwise, we won't get the shortest path. Once we check some item, we need to make sure we don't check it again. Otherwise, we might end up in an infinite loop."
      ]
    },
    {
      "cell_type": "markdown",
      "id": "613cd359",
      "metadata": {
        "id": "613cd359"
      },
      "source": [
        "### 7. Dijkstra 's algorithm\n",
        "\n",
        "While Breadth-first search is used to calculate the shortest path for an unweighted, Dijkstra's algorithm is used to calculate the shortest path for a weighted graph.\n",
        "\n",
        "Negative weight edges break the algorithm so we can not use negative weight edges with Dijkstra's algorithm. In that case, there is an algorithm for that called Bellman Ford algorithm."
      ]
    },
    {
      "cell_type": "markdown",
      "id": "6a8e70b2",
      "metadata": {
        "id": "6a8e70b2"
      },
      "source": [
        "### 8. Greedy Algorithm\n",
        "\n",
        "How to tackle the impossible: problems that have no fast algorithmic solution (NP-complete problems). \n",
        "\n",
        "How to identify such problems?\n",
        "\n",
        "It would be better if we identify them when we see them, so we don't waste time trying to find a fast algorithm for them.\n",
        "Approximation algorithms exist, and they are useful to find an approximate solution to an NP-complete problem quickly. This algorithms are judged by how fast they are, and how close they are to the optimal solution.\n",
        "\n",
        "**Greedy strategy:** A very simple problem-solving strategy.\n",
        "\n",
        "A greedy algorithm is simple. At each step, pick the optimal move. They are easy to write and fast to run, so they make good approximation algorithm. They optimize locally, hoping to end up with a global optimum.\n",
        "\n",
        "There is no easy way to tell if the problem we are working on is NP-complete. Here are some giveaways:\n",
        "\n",
        "-Our algorithm runs quickly with a handful of items but really slows down with more items.\n",
        "\n",
        "-'All combinations of X' usually point to an NP-complete problem.\n",
        "\n",
        "-Do we need to calculate 'every possible version of X' because we can't break it down into smaller sub-problems? Then it might be NP-complete.\n",
        "\n",
        "-If our problem involves a set or if it involves a sequence and its hard to solve, it might be NP-complete.\n",
        "\n",
        "-NP-complete problems have no known fast solution."
      ]
    },
    {
      "cell_type": "markdown",
      "id": "d6ad9278",
      "metadata": {
        "id": "d6ad9278"
      },
      "source": [
        "### 9. Dynamic Programming\n",
        "\n",
        "It is useful when you are trying to optimize something given a constraint. You can use dynamic programming when the problem can  be broken into discrete subproblems, and they don't depend on each other.\n",
        "\n",
        "**General tips:**\n",
        "\n",
        "-Every dynamic programming solution involves a grid.\n",
        "\n",
        "-The values in the cell are usually what we are trying to optimize.\n",
        "\n",
        "-Each cell is a subproblem, so let's think about how can we divide our problem into subproblems. That will help us figure out what the axes are.\n",
        "\n",
        "**Examples of use of Dynamic Programming:**\n",
        "\n",
        "-Biologists use the longest common subsequence to find similarities in DNA strands, to tell how similar two animals or two diseases are. It is being used to find a cure for multiple sclerosis.\n",
        "\n",
        "-When we use Git diff to tell the difference between two files, it is Dynamic programming!\n"
      ]
    },
    {
      "cell_type": "markdown",
      "id": "7f13c697",
      "metadata": {
        "id": "7f13c697"
      },
      "source": [
        "### 10. K-Nearest Neighbors (KNN)\n",
        "\n",
        "It's simple but useful. If you are trying to classify something, you might want to try KNN first.\n",
        "\n",
        "**Building a recommendation system**\n",
        "\n",
        "Suppose we are Netflix. Users are plotted by similarity. If we want to recommend movies for Maria, we can find the five users closest to her. So whatever movies they like, Maria will probably like them too.\n",
        "\n",
        "---> But how do we figure out how similar two users are?\n",
        "\n",
        "**Feature extraction**\n",
        "\n",
        "Feature extraction means converting an item (like a user) into a list of numbers that can be compared.\n",
        "If we have five features for each user in Netflix, for example Romance, Comedy, Horror, Science-fiction, Religious. To find the distance between two points we use the Pythagorean formula:"
      ]
    },
    {
      "cell_type": "markdown",
      "id": "43fdc201",
      "metadata": {
        "id": "43fdc201"
      },
      "source": [
        "![knn1.jpg](https://github.com/4GeeksAcademy/machine-learning-content/blob/master/assets/knn1.jpg?raw=1)"
      ]
    },
    {
      "cell_type": "markdown",
      "id": "71261546",
      "metadata": {
        "id": "71261546"
      },
      "source": [
        "A mathematician would say we are now calculating the distance in five dimensions, but the distance formula remains the same:"
      ]
    },
    {
      "cell_type": "markdown",
      "id": "d09422c5",
      "metadata": {
        "id": "d09422c5"
      },
      "source": [
        "![knn2.jpg](https://github.com/4GeeksAcademy/machine-learning-content/blob/master/assets/knn2.jpg?raw=1)"
      ]
    },
    {
      "cell_type": "markdown",
      "id": "b3cf8fd6",
      "metadata": {
        "id": "b3cf8fd6"
      },
      "source": [
        "So for example, if John and Maria are 18 apart, and Lucas and Maria are 3 apart, then if Lucas likes a movie, we will recommend it to Maria. We just built a recommendation system!\n",
        "\n",
        "But not all users rate movies the same way. Two users may have the same taste for movies but one of them may be more conservative at the time of ranking a movie. They are well matched but according to the distance algorithm they wouldn't be neighbors. How to solve this?\n",
        "\n",
        "Normalization! ----> We look at the average rating for each user and use it to scale their ratings, and then we can compare their ratings on the same scale.\n",
        "\n",
        "How do we know if the number of neighbors we are using is the correct one?\n",
        "\n",
        "A good rule of thumb is : If you have N users, look at sqrt(N).\n",
        "\n",
        "KNN can be used for classification for categorizing into a group, and regression to predict a response like a number.\n",
        "\n",
        "When we work with KNN it is really important to pick the right features:\n",
        "\n",
        "-Features that directly correlate to what you try to recommend.\n",
        "\n",
        "-Features that don't have a bias (for example if we only ask users to rate romance movies)\n",
        "\n",
        "There is no right answer when it comes to picking good features. We have to think about all the different things we need to consider."
      ]
    },
    {
      "cell_type": "markdown",
      "id": "2ece4c95",
      "metadata": {
        "id": "2ece4c95"
      },
      "source": [
        "Source:\n",
        "    \n",
        "https://www.freecodecamp.org/news/time-is-complex-but-priceless-f0abd015063c/\n",
        "\n",
        "https://www.bigocheatsheet.com/\n",
        "\n",
        "Book: \n",
        "\n",
        "Grooking Algorithms - Aditya Y. Bhargava\n",
        "(free download: https://github.com/cjbt/Free-Algorithm-Books/blob/master/book/Grokking%20Algorithms%20-%20An%20illustrated%20guide%20for%20programmers%20and%20other%20curious%20people.pdf)"
      ]
    }
  ],
  "metadata": {
    "kernelspec": {
      "display_name": "Python 3 (ipykernel)",
      "language": "python",
      "name": "python3"
    },
    "language_info": {
      "codemirror_mode": {
        "name": "ipython",
        "version": 3
      },
      "file_extension": ".py",
      "mimetype": "text/x-python",
      "name": "python",
      "nbconvert_exporter": "python",
      "pygments_lexer": "ipython3",
      "version": "3.10.1"
    },
    "colab": {
      "name": "algorithms-and-data-structures-optimization.ipynb",
      "provenance": [],
      "include_colab_link": true
    }
  },
  "nbformat": 4,
  "nbformat_minor": 5
}