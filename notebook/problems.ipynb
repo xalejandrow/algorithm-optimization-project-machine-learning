{
  "cells": [
    {
      "cell_type": "markdown",
      "metadata": {
        "id": "view-in-github",
        "colab_type": "text"
      },
      "source": [
        "<a href=\"https://colab.research.google.com/github/xalejandrow/algorithm-optimization-project-machine-learning/blob/main/notebook/problems.ipynb\" target=\"_parent\"><img src=\"https://colab.research.google.com/assets/colab-badge.svg\" alt=\"Open In Colab\"/></a>"
      ]
    },
    {
      "cell_type": "markdown",
      "id": "27b09e13",
      "metadata": {
        "id": "27b09e13"
      },
      "source": [
        "# Algorithm Optimization problems"
      ]
    },
    {
      "cell_type": "markdown",
      "id": "ed05e9bf",
      "metadata": {
        "id": "ed05e9bf"
      },
      "source": [
        "## Exercise 1\n",
        "\n",
        "Suppose a manager gives a task to two of his employees to design an algorithm in Python that efficiently compute sums of diagonals of a matrix.\n",
        "\n",
        "For example:\n",
        "\n",
        "```py\n",
        "Input : \n",
        "\n",
        "\n",
        "1 2 3 4\n",
        "4 3 2 1\n",
        "7 8 9 6\n",
        "6 5 4 3\n",
        "\n",
        "Output :\n",
        "\n",
        "Principal Diagonal: 16\n",
        "Secondary Diagonal: 20\n",
        "```\n",
        "\n",
        "The primary diagonal is formed by the elements 1,3,9,3. \n",
        " \n",
        "\n",
        "Condition for Principal Diagonal: The row-column condition is row = column. \n",
        "\n",
        "The secondary diagonal is formed by the elements 4,2,8,6.\n",
        "\n",
        "Condition for Secondary Diagonal: The row-column condition is row = number Of Rows – column -1.\n",
        "\n",
        "The algorithm developed by the first employee looks like this:"
      ]
    },
    {
      "cell_type": "markdown",
      "id": "8f18cb2f",
      "metadata": {
        "id": "8f18cb2f"
      },
      "source": [
        "**Method 1:**\n",
        "\n",
        "In this method, he used two loops. A loop for columns and a loop for rows and in the inner loop we check for the condition stated above."
      ]
    },
    {
      "cell_type": "code",
      "execution_count": 11,
      "id": "c592f03c",
      "metadata": {
        "id": "c592f03c",
        "outputId": "4266cb34-ea09-4c86-c13d-41b9dcc7872a",
        "colab": {
          "base_uri": "https://localhost:8080/"
        }
      },
      "outputs": [
        {
          "output_type": "stream",
          "name": "stdout",
          "text": [
            "Principal Diagonal: 10\n",
            "Secondary Diagonal: 18\n"
          ]
        }
      ],
      "source": [
        "# A simple Python program to find sum of diagonals\n",
        "\n",
        "MAX = 100\n",
        " \n",
        "def DiagonalSums_emp1(mat, n):\n",
        " \n",
        "    principal = 0\n",
        "    secondary = 0;\n",
        "    for i in range(0, n):\n",
        "        for j in range(0, n):\n",
        " \n",
        "            # Condition for principal diagonal\n",
        "            if (i == j):\n",
        "                principal += mat[i][j]\n",
        " \n",
        "            # Condition for secondary diagonal\n",
        "            if ((i + j) == (n - 1)):\n",
        "                secondary += mat[i][j]\n",
        "                \n",
        "    print(\"Principal Diagonal:\", principal)\n",
        "    print(\"Secondary Diagonal:\", secondary)\n",
        " \n",
        "\n",
        "a = [[ 1, 2, 3, 4 ],\n",
        "     [ 5, 6, 7, 8 ],\n",
        "     [ 1, 2, 3, 4 ],\n",
        "     [ 5, 6, 7, 0 ]]\n",
        "\n",
        "DiagonalSums_emp1(a, 4)\n",
        " \n",
        "# This code is contributed\n",
        "# by ihritik"
      ]
    },
    {
      "cell_type": "markdown",
      "id": "4f0567be",
      "metadata": {
        "id": "4f0567be"
      },
      "source": [
        "The algorithm developed by the second employee looks like this:\n",
        "\n",
        "**Method 2:**\n",
        "\n",
        "In this method we use one loop. A loop for calculating sum of both the principal and secondary diagonals: "
      ]
    },
    {
      "cell_type": "code",
      "execution_count": 12,
      "id": "0ca5e0a5",
      "metadata": {
        "id": "0ca5e0a5",
        "outputId": "a5189e52-b142-42ce-da55-be1abc63f004",
        "colab": {
          "base_uri": "https://localhost:8080/"
        }
      },
      "outputs": [
        {
          "output_type": "stream",
          "name": "stdout",
          "text": [
            "Principal Diagonal: 10\n",
            "Secondary Diagonal: 18\n"
          ]
        }
      ],
      "source": [
        "# A simple Python3 program to find sum of diagonals\n",
        "MAX = 100\n",
        " \n",
        "def DiagonalSums_emp2(mat, n):\n",
        " \n",
        "    principal = 0\n",
        "    secondary = 0\n",
        "    for i in range(0, n):\n",
        "        principal += mat[i][i]\n",
        "        secondary += mat[i][n - i - 1]\n",
        "         \n",
        "    print(\"Principal Diagonal:\", principal)\n",
        "    print(\"Secondary Diagonal:\", secondary)\n",
        " \n",
        "\n",
        "a = [[ 1, 2, 3, 4 ],\n",
        "     [ 5, 6, 7, 8 ],\n",
        "     [ 1, 2, 3, 4 ],\n",
        "     [ 5, 6, 7, 0 ]]\n",
        "\n",
        "DiagonalSums_emp2(a, 4)\n",
        " \n",
        "# This code is contributed\n",
        "# by ihritik"
      ]
    },
    {
      "cell_type": "markdown",
      "id": "afbd2b33",
      "metadata": {
        "id": "afbd2b33"
      },
      "source": [
        "\n",
        "The manager has to decide which algorithm to use. To do so, he has to find the complexity of the algorithm. A good algorithm doesn't only find an answer, it finds it quickly and efficiently. But how do we evaluate how fast an algorithm is? One way to do so is by finding the time required to execute the algorithms. We can measure\n",
        "\n",
        "The %time command times a single run of a function. Here is an example on how it is used:\n",
        "\n",
        "```py\n",
        "In [3]: %time sum(range(100000))\n",
        "CPU times: user 2.68 ms, sys: 3 µs, total: 2.68 ms\n",
        "Wall time: 2.69 ms\n",
        "Out[3]: 4999950000\n",
        "```\n",
        "\n",
        "We can also use the time library:\n",
        "\n",
        "```py\n",
        "import time\n",
        "\n",
        "start = time.time()\n",
        "# your code\n",
        "# end\n",
        "print(f'Time: {time.time() - start}')\n",
        "```\n",
        "\n",
        "**Find the time required to execute each of the algorithms**"
      ]
    },
    {
      "cell_type": "code",
      "execution_count": 13,
      "id": "45423ca8",
      "metadata": {
        "id": "45423ca8"
      },
      "outputs": [],
      "source": [
        "import numpy as np\n",
        "mat = np.random.rand(200,200)"
      ]
    },
    {
      "cell_type": "code",
      "execution_count": 14,
      "id": "929cef16",
      "metadata": {
        "id": "929cef16",
        "outputId": "fdac7a59-f134-4f22-c772-324b32823b76",
        "colab": {
          "base_uri": "https://localhost:8080/"
        }
      },
      "outputs": [
        {
          "output_type": "stream",
          "name": "stdout",
          "text": [
            "Principal Diagonal: 98.21482284270536\n",
            "Secondary Diagonal: 110.06944213522691\n",
            "Time: 0.0166928768157959\n"
          ]
        }
      ],
      "source": [
        "#YOUR CODE HERE TO FIND THE TIME REQUIRED TO EXECUTE ALGORITHM BUILT BY THE FIRST EMPLOYEE\n",
        "import time\n",
        "start = time.time()\n",
        "DiagonalSums_emp1(mat, 200)\n",
        "print(f'Time: {time.time() - start}')"
      ]
    },
    {
      "cell_type": "code",
      "execution_count": 15,
      "id": "8c8185a8",
      "metadata": {
        "id": "8c8185a8",
        "outputId": "2cf709e6-91ca-471d-c3b0-7efd7844e73d",
        "colab": {
          "base_uri": "https://localhost:8080/"
        }
      },
      "outputs": [
        {
          "output_type": "stream",
          "name": "stdout",
          "text": [
            "Principal Diagonal: 98.21482284270536\n",
            "Secondary Diagonal: 110.06944213522691\n",
            "Time: 0.0013599395751953125\n"
          ]
        }
      ],
      "source": [
        "#YOUR CODE HERE TO FIND THE TIME REQUIRED TO EXECUTE ALGORITHM BUILT BY THE SECOND EMPLOYEE\n",
        "start = time.time()\n",
        "DiagonalSums_emp2(mat, 200)\n",
        "print(f'Time: {time.time() - start}')"
      ]
    },
    {
      "cell_type": "markdown",
      "id": "d66bad41",
      "metadata": {
        "id": "d66bad41"
      },
      "source": [
        "However, execution time is not a good metric to measure the complexity of an algorithm since it depends upon the hardware. A more objective complexity analysis metrics for the algorithms is needed. This is where Big O notation comes to play.\n",
        "\n",
        "As we already know, the complexity of an algorithm is said to :\n",
        "\n",
        "Constant if:\n",
        "\n",
        "The steps required to complete the execution of an algorithm remain constant, irrespective of the number of inputs. The constant complexity is denoted by O(c) where c can be any constant number.\n",
        "\n",
        "Linear if:\n",
        "\n",
        "The steps required to complete the execution of an algorithm increase or decrease linearly with the number of inputs. Linear complexity is denoted by O(n). For instance, if there are 4 inputs in the inputs list, the for-loop will be executed 4 times, and so on.\n",
        "\n",
        "Quadratic if:\n",
        "\n",
        "The steps required to execute an algorithm are a quadratic function of the number of items in the input. Quadratic complexity is denoted as O(n^2). The total number of steps performed is n * n, where n is the number of items in the input array.\n",
        "\n",
        "**Find out the complexity of each algorithm in Big O Notation and draw a line plot with the varying size of the items input on the x-axis and the number of steps on the y-axis.**"
      ]
    },
    {
      "cell_type": "markdown",
      "source": [
        "\n",
        "\n",
        "Complejidad de tiempo de O(n^2)\n"
      ],
      "metadata": {
        "id": "QKatcC40A7am"
      },
      "id": "QKatcC40A7am"
    },
    {
      "cell_type": "code",
      "source": [
        "import numpy as np\n",
        "import matplotlib.pyplot as plt\n",
        "\n",
        "def steps_quadratic(items): return items**2\n",
        "items = np.linspace(0,100)\n",
        "\n",
        "plt.plot(items, steps_quadratic(items))\n",
        "plt.xlabel(\"Size of the items input\")\n",
        "plt.ylabel(\"Number of steps\")\n",
        "plt.title(\"Quadratic time\")\n",
        "plt.show()"
      ],
      "metadata": {
        "id": "f5UBuNhiAql5",
        "outputId": "c1871159-c5ce-4421-dca4-b7d206fb031d",
        "colab": {
          "base_uri": "https://localhost:8080/",
          "height": 295
        }
      },
      "id": "f5UBuNhiAql5",
      "execution_count": 16,
      "outputs": [
        {
          "output_type": "display_data",
          "data": {
            "text/plain": [
              "<Figure size 432x288 with 1 Axes>"
            ],
            "image/png": "[encoded data removed]"
          },
          "metadata": {
            "needs_background": "light"
          }
        }
      ]
    },
    {
      "cell_type": "code",
      "execution_count": 17,
      "id": "2975d116",
      "metadata": {
        "id": "2975d116"
      },
      "outputs": [],
      "source": [
        "# Write the time complexity in Big O notation for the second employee's algorithm\n",
        "# CODE HERE TO MAKE A PLOT FOR THE SECOND EMPLOYEE'S SOLUTION"
      ]
    },
    {
      "cell_type": "markdown",
      "source": [
        "\n",
        "\n",
        "Complejidad de tiempo de O(n)\n"
      ],
      "metadata": {
        "id": "EVfb9U-7BBBg"
      },
      "id": "EVfb9U-7BBBg"
    },
    {
      "cell_type": "code",
      "source": [
        "def steps_linear(items): return items\n",
        "items = np.linspace(0,100)\n",
        "\n",
        "plt.plot(items, steps_linear(items))\n",
        "plt.xlabel(\"Size of the items input\")\n",
        "plt.ylabel(\"Number of steps\")\n",
        "plt.title(\"Linear time\")\n",
        "plt.show()"
      ],
      "metadata": {
        "id": "71j2tGrxBAs7",
        "outputId": "a94e846b-3178-40c3-b7b7-a58332d9f1e6",
        "colab": {
          "base_uri": "https://localhost:8080/",
          "height": 295
        }
      },
      "id": "71j2tGrxBAs7",
      "execution_count": 18,
      "outputs": [
        {
          "output_type": "display_data",
          "data": {
            "text/plain": [
              "<Figure size 432x288 with 1 Axes>"
            ],
            "image/png": "[encoded data removed]"
          },
          "metadata": {
            "needs_background": "light"
          }
        }
      ]
    },
    {
      "cell_type": "markdown",
      "id": "425bc2b8",
      "metadata": {
        "id": "425bc2b8"
      },
      "source": [
        "## Exercise 2 : Selection Sort algorithm\n",
        "\n",
        "\n",
        "### Theory:\n",
        "\n",
        "The selection sort algorithm sorts an array by repeatedly finding the minimum element (considering ascending order) from unsorted part and putting it at the beginning. The algorithm maintains two subarrays in a given array:\n",
        "\n",
        "-The subarray which is already sorted. \n",
        "\n",
        "-Remaining subarray which is unsorted.\n",
        "\n",
        "In every iteration of selection sort, the minimum element (considering ascending order) from the unsorted subarray is picked and moved to the sorted subarray. \n",
        "\n",
        "Lets consider the following array as an example: \n",
        "```py\n",
        "arr[] = {64, 25, 12, 22, 11}\n",
        "```\n",
        "\n",
        "**First pass:**\n",
        "\n",
        "For the first position in the sorted array, the whole array is traversed from index 0 to 4 sequentially. The first position where 64 is stored presently, after traversing whole array it is clear that 11 is the lowest value.\n",
        "```py\n",
        "[64  25  12  22  11]\n",
        "```\n",
        "\n",
        "Thus, replace 64 with 11. After one iteration 11, which happens to be the least value in the array, tends to appear in the first position of the sorted list.\n",
        "```py\n",
        "[11  25  12  22  64]\n",
        "```\n",
        "\n",
        "**Second Pass:**\n",
        "\n",
        "For the second position, where 25 is present, again traverse the rest of the array in a sequential manner.\n",
        "```py\n",
        "[11  25  12  22  64]\n",
        "```\n",
        "\n",
        "After traversing, we found that 12 is the second lowest value in the array and it should appear at the second place in the array, thus swap these values.\n",
        "```py\n",
        "[11  12  25  22  64]\n",
        "```\n",
        "\n",
        "**Third Pass:**\n",
        "\n",
        "Now, for third place, where 25 is present again traverse the rest of the array and find the third least value present in the array.\n",
        "```py\n",
        "[11  12  25  22  64]\n",
        "```\n",
        "\n",
        "While traversing, 22 came out to be the third least value and it should appear at the third place in the array, thus swap 22 with element present at third position.\n",
        "```py\n",
        "[11  12  22  25  64]\n",
        "```\n",
        "\n",
        "**Fourth pass:**\n",
        "\n",
        "Similarly, for fourth position traverse the rest of the array and find the fourth least element in the array \n",
        "As 25 is the 4th lowest value hence, it will place at the fourth position.\n",
        "\n",
        "```py\n",
        "[11  12  22  25  64]  \n",
        "```\n",
        "\n",
        "**Fifth Pass:**\n",
        "\n",
        "At last the largest value present in the array automatically get placed at the last position in the array\n",
        "The resulted array is the sorted array.\n",
        "\n",
        "```py\n",
        "[11  12  22  25  64] \n",
        "```\n",
        "\n",
        "\n",
        "\n",
        "### Problem:\n",
        "\n",
        "\n",
        "**Part 1: Create a python program for implementation of Selection Sort**\n",
        "\n",
        "Given the following unsorted array, create a python program to implement selection sort:\n",
        "```py\n",
        "arr[] = {10,5,3,8,9,4}\n",
        "```\n",
        "\n",
        "Instructions:\n",
        "\n",
        "-Initialize minimum value(min_idx) to location 0\n",
        "\n",
        "-Traverse the array to find the minimum element in the array\n",
        "\n",
        "-While traversing if any element smaller than min_idx is found then swap both the values.\n",
        "\n",
        "-Then, increment min_idx to point to next element\n",
        "\n",
        "-Repeat until array is sorted\n",
        "\n",
        "\n",
        "**Part 2: Time Complexity Analysis of Selection Sort**\n",
        "\n",
        "\n",
        "How many nested loops are there?\n",
        "\n",
        "What is the overall time complexity?\n",
        "\n"
      ]
    },
    {
      "cell_type": "code",
      "execution_count": 21,
      "id": "440f2f4d",
      "metadata": {
        "id": "440f2f4d",
        "outputId": "dab6234d-d6a0-464b-8c42-d57292613b2b",
        "colab": {
          "base_uri": "https://localhost:8080/"
        }
      },
      "outputs": [
        {
          "output_type": "stream",
          "name": "stdout",
          "text": [
            "1\n",
            "2\n",
            "3\n",
            "4\n",
            "5\n",
            "[3, 5, 10, 8, 9, 4]\n",
            "2\n",
            "3\n",
            "4\n",
            "5\n",
            "[3, 4, 10, 8, 9, 5]\n",
            "3\n",
            "4\n",
            "5\n",
            "[3, 4, 5, 8, 9, 10]\n",
            "4\n",
            "5\n",
            "[3, 4, 5, 8, 9, 10]\n",
            "5\n",
            "[3, 4, 5, 8, 9, 10]\n",
            "[3, 4, 5, 8, 9, 10]\n",
            "    Matriz Ordenada    \n",
            "3   4   5   8   9   10   "
          ]
        }
      ],
      "source": [
        "# Python program for implementation of Selection Sort\n",
        "\n",
        "import sys\n",
        "\n",
        "A = [10,5,3,8,9,4]\n",
        " \n",
        "\n",
        "for i in range(len(A)):             # recorrer la matriz\n",
        "      \n",
        "    min_ele = i                     # obtener el mínimo elemento dentro de la matriz\n",
        "    for j in range(i+1, len(A)):\n",
        "        print(j)\n",
        "        if A[min_ele] > A[j]:\n",
        "            min_ele = j\n",
        "       \n",
        "    A[i], A[min_ele] = A[min_ele], A[i] # cambiar el elemento mínimo por el primer elemento\n",
        "    print(A)\n",
        "\n",
        "cadena = \"Matriz Ordenada\"\n",
        "print (cadena.center(23))\n",
        "for i in range(len(A)):\n",
        "    print(\"%d\" %A[i],end=\"   \")"
      ]
    },
    {
      "cell_type": "markdown",
      "id": "6cb6a105",
      "metadata": {
        "id": "6cb6a105"
      },
      "source": [
        "## Exercise 3: Implementing a KNN Algorithm with Scikit-learn\n",
        "\n",
        "In this exercise, we will have a brief introduction to the Scikit-learn library. We will see how this library can be used to implement the KNN algorithm in less than 20 lines of code.  Then the task will be to try to optimize the parameter of this algorithm. Don't worry! Scikit-Learn, and also de KNN algorithm will be explained very well in future modules.\n",
        "\n",
        "**The dataset**\n",
        "\n",
        "We are going to use the famous iris data set for our KNN example. The dataset consists of four attributes: sepal-width, sepal-length, petal-width and petal-length. These are the attributes of specific types of iris plant. The goal is to predict the class to which these plants belong. There are three classes in the dataset: Iris-setosa, Iris-versicolor and Iris-virginica.\n",
        "\n",
        "\n",
        "**Library installation**\n",
        "\n",
        "\n",
        "First let's install the Scikit-learn library by entering the following command in the terminal:\n",
        "\n",
        "```py\n",
        "pip install -U scikit-learn\n",
        "```\n",
        "\n",
        "Now let's see how to implement the KNN algorithm:\n",
        "\n",
        "**Importing libraries**"
      ]
    },
    {
      "cell_type": "code",
      "execution_count": 22,
      "id": "9d0f17f0",
      "metadata": {
        "id": "9d0f17f0"
      },
      "outputs": [],
      "source": [
        "import numpy as np\n",
        "import matplotlib.pyplot as plt\n",
        "import pandas as pd"
      ]
    },
    {
      "cell_type": "markdown",
      "id": "d3e87b86",
      "metadata": {
        "id": "d3e87b86"
      },
      "source": [
        "**Importing and loading the dataset**"
      ]
    },
    {
      "cell_type": "code",
      "execution_count": 23,
      "id": "ca2f71e1",
      "metadata": {
        "id": "ca2f71e1"
      },
      "outputs": [],
      "source": [
        "url = \"https://archive.ics.uci.edu/ml/machine-learning-databases/iris/iris.data\"\n",
        "\n",
        "# Assign colum names to the dataset\n",
        "names = ['sepal-length', 'sepal-width', 'petal-length', 'petal-width', 'Class']\n",
        "\n",
        "# Read dataset to pandas dataframe\n",
        "dataset = pd.read_csv(url, names=names)"
      ]
    },
    {
      "cell_type": "markdown",
      "id": "9fd366f8",
      "metadata": {
        "id": "9fd366f8"
      },
      "source": [
        "**Looking at the first rows of the data**"
      ]
    },
    {
      "cell_type": "code",
      "execution_count": 24,
      "id": "058c3171",
      "metadata": {
        "id": "058c3171",
        "outputId": "8fee4787-6a29-4d05-8164-a1f93054f397",
        "colab": {
          "base_uri": "https://localhost:8080/",
          "height": 206
        }
      },
      "outputs": [
        {
          "output_type": "execute_result",
          "data": {
            "text/plain": [
              "   sepal-length  sepal-width  petal-length  petal-width        Class\n",
              "0           5.1          3.5           1.4          0.2  Iris-setosa\n",
              "1           4.9          3.0           1.4          0.2  Iris-setosa\n",
              "2           4.7          3.2           1.3          0.2  Iris-setosa\n",
              "3           4.6          3.1           1.5          0.2  Iris-setosa\n",
              "4           5.0          3.6           1.4          0.2  Iris-setosa"
            ],
            "text/html": [
              "\n",
              "  <div id=\"df-4e3291ca-d0d4-44ec-9d2d-21da07a1adbe\">\n",
              "    <div class=\"colab-df-container\">\n",
              "      <div>\n",
              "<style scoped>\n",
              "    .dataframe tbody tr th:only-of-type {\n",
              "        vertical-align: middle;\n",
              "    }\n",
              "\n",
              "    .dataframe tbody tr th {\n",
              "        vertical-align: top;\n",
              "    }\n",
              "\n",
              "    .dataframe thead th {\n",
              "        text-align: right;\n",
              "    }\n",
              "</style>\n",
              "<table border=\"1\" class=\"dataframe\">\n",
              "  <thead>\n",
              "    <tr style=\"text-align: right;\">\n",
              "      <th></th>\n",
              "      <th>sepal-length</th>\n",
              "      <th>sepal-width</th>\n",
              "      <th>petal-length</th>\n",
              "      <th>petal-width</th>\n",
              "      <th>Class</th>\n",
              "    </tr>\n",
              "  </thead>\n",
              "  <tbody>\n",
              "    <tr>\n",
              "      <th>0</th>\n",
              "      <td>5.1</td>\n",
              "      <td>3.5</td>\n",
              "      <td>1.4</td>\n",
              "      <td>0.2</td>\n",
              "      <td>Iris-setosa</td>\n",
              "    </tr>\n",
              "    <tr>\n",
              "      <th>1</th>\n",
              "      <td>4.9</td>\n",
              "      <td>3.0</td>\n",
              "      <td>1.4</td>\n",
              "      <td>0.2</td>\n",
              "      <td>Iris-setosa</td>\n",
              "    </tr>\n",
              "    <tr>\n",
              "      <th>2</th>\n",
              "      <td>4.7</td>\n",
              "      <td>3.2</td>\n",
              "      <td>1.3</td>\n",
              "      <td>0.2</td>\n",
              "      <td>Iris-setosa</td>\n",
              "    </tr>\n",
              "    <tr>\n",
              "      <th>3</th>\n",
              "      <td>4.6</td>\n",
              "      <td>3.1</td>\n",
              "      <td>1.5</td>\n",
              "      <td>0.2</td>\n",
              "      <td>Iris-setosa</td>\n",
              "    </tr>\n",
              "    <tr>\n",
              "      <th>4</th>\n",
              "      <td>5.0</td>\n",
              "      <td>3.6</td>\n",
              "      <td>1.4</td>\n",
              "      <td>0.2</td>\n",
              "      <td>Iris-setosa</td>\n",
              "    </tr>\n",
              "  </tbody>\n",
              "</table>\n",
              "</div>\n",
              "      <button class=\"colab-df-convert\" onclick=\"convertToInteractive('df-4e3291ca-d0d4-44ec-9d2d-21da07a1adbe')\"\n",
              "              title=\"Convert this dataframe to an interactive table.\"\n",
              "              style=\"display:none;\">\n",
              "        \n",
              "  <svg xmlns=\"http://www.w3.org/2000/svg\" height=\"24px\"viewBox=\"0 0 24 24\"\n",
              "       width=\"24px\">\n",
              "    <path d=\"M0 0h24v24H0V0z\" fill=\"none\"/>\n",
              "    <path d=\"M18.56 5.44l.94 2.06.94-2.06 2.06-.94-2.06-.94-.94-2.06-.94 2.06-2.06.94zm-11 1L8.5 8.5l.94-2.06 2.06-.94-2.06-.94L8.5 2.5l-.94 2.06-2.06.94zm10 10l.94 2.06.94-2.06 2.06-.94-2.06-.94-.94-2.06-.94 2.06-2.06.94z\"/><path d=\"M17.41 7.96l-1.37-1.37c-.4-.4-.92-.59-1.43-.59-.52 0-1.04.2-1.43.59L10.3 9.45l-7.72 7.72c-.78.78-.78 2.05 0 2.83L4 21.41c.39.39.9.59 1.41.59.51 0 1.02-.2 1.41-.59l7.78-7.78 2.81-2.81c.8-.78.8-2.07 0-2.86zM5.41 20L4 18.59l7.72-7.72 1.47 1.35L5.41 20z\"/>\n",
              "  </svg>\n",
              "      </button>\n",
              "      \n",
              "  <style>\n",
              "    .colab-df-container {\n",
              "      display:flex;\n",
              "      flex-wrap:wrap;\n",
              "      gap: 12px;\n",
              "    }\n",
              "\n",
              "    .colab-df-convert {\n",
              "      background-color: #E8F0FE;\n",
              "      border: none;\n",
              "      border-radius: 50%;\n",
              "      cursor: pointer;\n",
              "      display: none;\n",
              "      fill: #1967D2;\n",
              "      height: 32px;\n",
              "      padding: 0 0 0 0;\n",
              "      width: 32px;\n",
              "    }\n",
              "\n",
              "    .colab-df-convert:hover {\n",
              "      background-color: #E2EBFA;\n",
              "      box-shadow: 0px 1px 2px rgba(60, 64, 67, 0.3), 0px 1px 3px 1px rgba(60, 64, 67, 0.15);\n",
              "      fill: #174EA6;\n",
              "    }\n",
              "\n",
              "    [theme=dark] .colab-df-convert {\n",
              "      background-color: #3B4455;\n",
              "      fill: #D2E3FC;\n",
              "    }\n",
              "\n",
              "    [theme=dark] .colab-df-convert:hover {\n",
              "      background-color: #434B5C;\n",
              "      box-shadow: 0px 1px 3px 1px rgba(0, 0, 0, 0.15);\n",
              "      filter: drop-shadow(0px 1px 2px rgba(0, 0, 0, 0.3));\n",
              "      fill: #FFFFFF;\n",
              "    }\n",
              "  </style>\n",
              "\n",
              "      <script>\n",
              "        const buttonEl =\n",
              "          document.querySelector('#df-4e3291ca-d0d4-44ec-9d2d-21da07a1adbe button.colab-df-convert');\n",
              "        buttonEl.style.display =\n",
              "          google.colab.kernel.accessAllowed ? 'block' : 'none';\n",
              "\n",
              "        async function convertToInteractive(key) {\n",
              "          const element = document.querySelector('#df-4e3291ca-d0d4-44ec-9d2d-21da07a1adbe');\n",
              "          const dataTable =\n",
              "            await google.colab.kernel.invokeFunction('convertToInteractive',\n",
              "                                                     [key], {});\n",
              "          if (!dataTable) return;\n",
              "\n",
              "          const docLinkHtml = 'Like what you see? Visit the ' +\n",
              "            '<a target=\"_blank\" href=https://colab.research.google.com/notebooks/data_table.ipynb>data table notebook</a>'\n",
              "            + ' to learn more about interactive tables.';\n",
              "          element.innerHTML = '';\n",
              "          dataTable['output_type'] = 'display_data';\n",
              "          await google.colab.output.renderOutput(dataTable, element);\n",
              "          const docLink = document.createElement('div');\n",
              "          docLink.innerHTML = docLinkHtml;\n",
              "          element.appendChild(docLink);\n",
              "        }\n",
              "      </script>\n",
              "    </div>\n",
              "  </div>\n",
              "  "
            ]
          },
          "metadata": {},
          "execution_count": 24
        }
      ],
      "source": [
        "dataset.head()"
      ]
    },
    {
      "cell_type": "markdown",
      "id": "e3dae7c8",
      "metadata": {
        "id": "e3dae7c8"
      },
      "source": [
        "**Pre-processing**\n",
        "\n",
        "Split dataset into attributes and labels. Again, don't worry, this data preprocessing part will also be very well explained in a future module. Now, we will focus on the algorithm optimization."
      ]
    },
    {
      "cell_type": "code",
      "execution_count": 25,
      "id": "ce94dbb1",
      "metadata": {
        "id": "ce94dbb1"
      },
      "outputs": [],
      "source": [
        "X = dataset.iloc[:, :-1].values\n",
        "y = dataset.iloc[:, 4].values"
      ]
    },
    {
      "cell_type": "markdown",
      "id": "d8b9dbed",
      "metadata": {
        "id": "d8b9dbed"
      },
      "source": [
        "**Train Test split**\n",
        "\n",
        "In machine learning, when we are building a model, we have to be careful to do not overfit it. Overfitting means that our model works very well in known data but when it works with unseen data, it has a poor performance. To avoid this, we divide our dataset into training and test datasets. This way our algorithm is tested on un-seen data to evaluate the performance of our algorithm. We will divide it into 80% training data and 20% for testing. This 4 blocks of data would be:\n",
        "\n",
        "-X_train: training features\n",
        "\n",
        "-X_test: test features\n",
        "\n",
        "-y_train: training labels\n",
        "\n",
        "-y_test: test labels"
      ]
    },
    {
      "cell_type": "code",
      "execution_count": 26,
      "id": "8ccaf14e",
      "metadata": {
        "id": "8ccaf14e"
      },
      "outputs": [],
      "source": [
        "from sklearn.model_selection import train_test_split\n",
        "\n",
        "X_train, X_test, y_train, y_test = train_test_split(X, y, test_size=0.20)"
      ]
    },
    {
      "cell_type": "markdown",
      "id": "21b18743",
      "metadata": {
        "id": "21b18743"
      },
      "source": [
        "**Feature Scaling**\n",
        "\n",
        "The majority of classifiers calculate the distance between two points by the Euclidean distance. If one of the features has a broad range of values, the distance will be governed by this particular feature. Therefore, the range of all features should be normalized so that each feature contributes approximately proportionately to the final distance.\n",
        "\n",
        "It is a good practice to scale the features so that all of them can be uniformly evaluated.\n",
        "We will read more about feature scaling in the data preprocessing module, but now, let's have a first look at how it is implemented."
      ]
    },
    {
      "cell_type": "code",
      "execution_count": 27,
      "id": "9904f4a0",
      "metadata": {
        "id": "9904f4a0"
      },
      "outputs": [],
      "source": [
        "from sklearn.preprocessing import StandardScaler\n",
        "scaler = StandardScaler()\n",
        "scaler.fit(X_train)\n",
        "\n",
        "X_train = scaler.transform(X_train)\n",
        "X_test = scaler.transform(X_test)"
      ]
    },
    {
      "cell_type": "markdown",
      "id": "6c368418",
      "metadata": {
        "id": "6c368418"
      },
      "source": [
        "**Train the KNN algorithm**\n",
        "\n",
        "Now our data is ready for training. We will begin by importing the algorithm we want to train from the scikit-learn library, and then we will initialize it with one parameter: n_neigbours. This is basically the value for 'K'. We don't know what is the ideal number of neighbors(K) yet so we will start it with 5. After making the predictions we will try to otpimize this K value.\n",
        "\n",
        "Finally, we train our model using .fit on our training features and training labels (they both represent 80% of the data)."
      ]
    },
    {
      "cell_type": "code",
      "execution_count": 28,
      "id": "fa6cda99",
      "metadata": {
        "id": "fa6cda99",
        "outputId": "564e1576-2972-4022-b812-9bf80844c756",
        "colab": {
          "base_uri": "https://localhost:8080/"
        }
      },
      "outputs": [
        {
          "output_type": "execute_result",
          "data": {
            "text/plain": [
              "KNeighborsClassifier()"
            ]
          },
          "metadata": {},
          "execution_count": 28
        }
      ],
      "source": [
        "from sklearn.neighbors import KNeighborsClassifier\n",
        "classifier = KNeighborsClassifier(n_neighbors=5)\n",
        "classifier.fit(X_train, y_train)"
      ]
    },
    {
      "cell_type": "markdown",
      "id": "14b37ff9",
      "metadata": {
        "id": "14b37ff9"
      },
      "source": [
        "**Make predictions on our test data**\n",
        "\n",
        "The model has been trained, so now we use the same algorithm (stored in the 'classifier' variable)  to predict only on the features of the test dataset (20% of the data). This time we don't use the labels, because we want to predict them, and then compare them with the real test labels."
      ]
    },
    {
      "cell_type": "code",
      "execution_count": 29,
      "id": "2dab6f34",
      "metadata": {
        "id": "2dab6f34"
      },
      "outputs": [],
      "source": [
        "y_pred = classifier.predict(X_test)"
      ]
    },
    {
      "cell_type": "markdown",
      "id": "5ebcc483",
      "metadata": {
        "id": "5ebcc483"
      },
      "source": [
        "**Evaluate the algorithm**\n",
        "\n",
        "Confusion matrix, precision, recall and f1 score are the most commonly used evaluation metrics for classification problems.\n",
        "The confusion_matrix and classification_report methods of the sklearn.metrics can be used to calculate these metrics. Here we will compare our y_pred results versus our y_test true labels."
      ]
    },
    {
      "cell_type": "code",
      "execution_count": 30,
      "id": "7eaac127",
      "metadata": {
        "id": "7eaac127",
        "outputId": "29546e5a-e5fd-4136-a7c4-e77ea5e03aea",
        "colab": {
          "base_uri": "https://localhost:8080/"
        }
      },
      "outputs": [
        {
          "output_type": "stream",
          "name": "stdout",
          "text": [
            "[[ 9  0  0]\n",
            " [ 0 13  1]\n",
            " [ 0  0  7]]\n",
            "                 precision    recall  f1-score   support\n",
            "\n",
            "    Iris-setosa       1.00      1.00      1.00         9\n",
            "Iris-versicolor       1.00      0.93      0.96        14\n",
            " Iris-virginica       0.88      1.00      0.93         7\n",
            "\n",
            "       accuracy                           0.97        30\n",
            "      macro avg       0.96      0.98      0.97        30\n",
            "   weighted avg       0.97      0.97      0.97        30\n",
            "\n"
          ]
        }
      ],
      "source": [
        "from sklearn.metrics import classification_report, confusion_matrix\n",
        "print(confusion_matrix(y_test, y_pred))\n",
        "print(classification_report(y_test, y_pred))"
      ]
    },
    {
      "cell_type": "markdown",
      "id": "0365c265",
      "metadata": {
        "id": "0365c265"
      },
      "source": [
        "**Optimizing the KNN algorithm**\n",
        "\n",
        "There is no way to know beforehand which value of 'K' yields the best results since the beginning. We randomly chose 5 as the 'K' value.\n",
        "\n",
        "This is where we optimize our algorithm. To help find the best value of K:\n",
        "\n",
        "1. First create a function that calculates the mean of error for all the predicted values where K ranges from 1 to 40. \n",
        "2. Plot the error values against K values.\n",
        "3. Vary the test and training size along with the K value to see how your results differ and how can you improve the accuracy of your algorithm. \n",
        "\n"
      ]
    },
    {
      "cell_type": "code",
      "execution_count": 31,
      "id": "6418e5e4",
      "metadata": {
        "id": "6418e5e4"
      },
      "outputs": [],
      "source": [
        "# Create an empty error list.\n",
        "error=[]\n",
        "\n",
        "\n",
        "# Execute a loop from 1 to 40. In each iteration calculate the mean error for predicted values of test set\n",
        "for i in range (1,41):\n",
        "    knn= KNeighborsClassifier(n_neighbors=i)\n",
        "    knn.fit(X_train, y_train)\n",
        "    predict = knn.predict(X_test)\n",
        "    error.append(np.mean(predict != y_test))\n",
        "    \n",
        "\n",
        "\n",
        "   "
      ]
    },
    {
      "cell_type": "code",
      "execution_count": 32,
      "id": "9483300a",
      "metadata": {
        "id": "9483300a",
        "outputId": "51cbc779-7ccb-441c-a427-d9822cf374bb",
        "colab": {
          "base_uri": "https://localhost:8080/",
          "height": 422
        }
      },
      "outputs": [
        {
          "output_type": "execute_result",
          "data": {
            "text/plain": [
              "Text(0, 0.5, 'Media del Error')"
            ]
          },
          "metadata": {},
          "execution_count": 32
        },
        {
          "output_type": "display_data",
          "data": {
            "text/plain": [
              "<Figure size 864x432 with 1 Axes>"
            ],
            "image/png": "[encoded data removed]"
          },
          "metadata": {
            "needs_background": "light"
          }
        }
      ],
      "source": [
        "# plot the error values against K values. Establish the graph size.\n",
        "\n",
        "# your code\n",
        "plt.figure(figsize=(12,6))\n",
        "plt.plot(error, color='r', marker='o',\n",
        "         markerfacecolor='black', markersize=15)\n",
        "# title and labels (uncomment the following code lines)\n",
        "plt.title('% Error K Value')\n",
        "plt.xlabel('Valor de K')\n",
        "plt.ylabel('Media del Error')"
      ]
    },
    {
      "cell_type": "markdown",
      "id": "b281af6e",
      "metadata": {
        "id": "b281af6e"
      },
      "source": [
        "Source:\n",
        "\n",
        "https://www.geeksforgeeks.org/\n",
        "\n",
        "https://stackabuse.com/big-o-notation-and-algorithm-analysis-with-python-examples/\n",
        "\n",
        "https://stackabuse.com/k-nearest-neighbors-algorithm-in-python-and-scikit-learn/\n",
        "\n",
        "https://www.geeksforgeeks.org/selection-sort/"
      ]
    }
  ],
  "metadata": {
    "kernelspec": {
      "display_name": "Python 3.8.13 64-bit ('3.8.13')",
      "language": "python",
      "name": "python3"
    },
    "language_info": {
      "codemirror_mode": {
        "name": "ipython",
        "version": 3
      },
      "file_extension": ".py",
      "mimetype": "text/x-python",
      "name": "python",
      "nbconvert_exporter": "python",
      "pygments_lexer": "ipython3",
      "version": "3.8.13"
    },
    "vscode": {
      "interpreter": {
        "hash": "110cc1dee26208153f2972f08a2ad52b6a56238dc66d48e87fb757ef2996db56"
      }
    },
    "colab": {
      "name": "problems.ipynb",
      "provenance": [],
      "include_colab_link": true
    }
  },
  "nbformat": 4,
  "nbformat_minor": 5
}